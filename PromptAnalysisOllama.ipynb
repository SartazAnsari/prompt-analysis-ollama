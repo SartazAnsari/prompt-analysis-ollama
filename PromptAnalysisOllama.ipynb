{
 "cells": [
  {
   "cell_type": "markdown",
   "metadata": {},
   "source": [
    "# Importing libraries"
   ]
  },
  {
   "cell_type": "code",
   "execution_count": 1,
   "metadata": {},
   "outputs": [],
   "source": [
    "import zipfile\n",
    "import pandas as pd\n",
    "import matplotlib.pyplot as plt\n",
    "from pandasai import Agent\n",
    "from pandasai.llm.local_llm import LocalLLM"
   ]
  },
  {
   "cell_type": "markdown",
   "metadata": {},
   "source": [
    "# Downloading dataset"
   ]
  },
  {
   "cell_type": "code",
   "execution_count": 2,
   "metadata": {},
   "outputs": [],
   "source": [
    "# !kaggle datasets download -d khushikhushikhushi/imdb-top-rated-tv-series-dataset"
   ]
  },
  {
   "cell_type": "code",
   "execution_count": 3,
   "metadata": {},
   "outputs": [],
   "source": [
    "# with zipfile.ZipFile('imdb-top-rated-tv-series-dataset.zip', 'r') as file:\n",
    "#     file.extractall('imdb-top-rated-tv-series-dataset')"
   ]
  },
  {
   "cell_type": "markdown",
   "metadata": {},
   "source": [
    "# Exploring dataset"
   ]
  },
  {
   "cell_type": "code",
   "execution_count": 4,
   "metadata": {},
   "outputs": [
    {
     "data": {
      "text/html": [
       "<div>\n",
       "<style scoped>\n",
       "    .dataframe tbody tr th:only-of-type {\n",
       "        vertical-align: middle;\n",
       "    }\n",
       "\n",
       "    .dataframe tbody tr th {\n",
       "        vertical-align: top;\n",
       "    }\n",
       "\n",
       "    .dataframe thead th {\n",
       "        text-align: right;\n",
       "    }\n",
       "</style>\n",
       "<table border=\"1\" class=\"dataframe\">\n",
       "  <thead>\n",
       "    <tr style=\"text-align: right;\">\n",
       "      <th></th>\n",
       "      <th>Title</th>\n",
       "      <th>Year</th>\n",
       "      <th>Parental Rating</th>\n",
       "      <th>Rating</th>\n",
       "      <th>Number of Votes</th>\n",
       "      <th>Description</th>\n",
       "    </tr>\n",
       "  </thead>\n",
       "  <tbody>\n",
       "    <tr>\n",
       "      <th>0</th>\n",
       "      <td>1. Game of Thrones</td>\n",
       "      <td>2011–2019</td>\n",
       "      <td>TV-MA</td>\n",
       "      <td>9.2</td>\n",
       "      <td>2.3M</td>\n",
       "      <td>Nine noble families fight for control over the...</td>\n",
       "    </tr>\n",
       "    <tr>\n",
       "      <th>1</th>\n",
       "      <td>2. Breaking Bad</td>\n",
       "      <td>2008–2013</td>\n",
       "      <td>TV-MA</td>\n",
       "      <td>9.5</td>\n",
       "      <td>2.1M</td>\n",
       "      <td>A chemistry teacher diagnosed with inoperable ...</td>\n",
       "    </tr>\n",
       "    <tr>\n",
       "      <th>2</th>\n",
       "      <td>3. Stranger Things</td>\n",
       "      <td>2016–2025</td>\n",
       "      <td>TV-14</td>\n",
       "      <td>8.7</td>\n",
       "      <td>1.3M</td>\n",
       "      <td>When a young boy vanishes, a small town uncove...</td>\n",
       "    </tr>\n",
       "    <tr>\n",
       "      <th>3</th>\n",
       "      <td>4. Friends</td>\n",
       "      <td>1994–2004</td>\n",
       "      <td>TV-14</td>\n",
       "      <td>8.9</td>\n",
       "      <td>1.1M</td>\n",
       "      <td>Follows the personal and professional lives of...</td>\n",
       "    </tr>\n",
       "    <tr>\n",
       "      <th>4</th>\n",
       "      <td>5. The Walking Dead</td>\n",
       "      <td>2010–2022</td>\n",
       "      <td>TV-MA</td>\n",
       "      <td>8.1</td>\n",
       "      <td>1.1M</td>\n",
       "      <td>Sheriff Deputy Rick Grimes wakes up from a com...</td>\n",
       "    </tr>\n",
       "  </tbody>\n",
       "</table>\n",
       "</div>"
      ],
      "text/plain": [
       "                 Title       Year Parental Rating  Rating Number of Votes  \\\n",
       "0   1. Game of Thrones  2011–2019           TV-MA     9.2            2.3M   \n",
       "1      2. Breaking Bad  2008–2013           TV-MA     9.5            2.1M   \n",
       "2   3. Stranger Things  2016–2025           TV-14     8.7            1.3M   \n",
       "3           4. Friends  1994–2004           TV-14     8.9            1.1M   \n",
       "4  5. The Walking Dead  2010–2022           TV-MA     8.1            1.1M   \n",
       "\n",
       "                                         Description  \n",
       "0  Nine noble families fight for control over the...  \n",
       "1  A chemistry teacher diagnosed with inoperable ...  \n",
       "2  When a young boy vanishes, a small town uncove...  \n",
       "3  Follows the personal and professional lives of...  \n",
       "4  Sheriff Deputy Rick Grimes wakes up from a com...  "
      ]
     },
     "execution_count": 4,
     "metadata": {},
     "output_type": "execute_result"
    }
   ],
   "source": [
    "df = pd.read_csv('imdb-top-rated-tv-series-dataset/IMDb Top TV Series.csv')\n",
    "df.head()"
   ]
  },
  {
   "cell_type": "code",
   "execution_count": 5,
   "metadata": {},
   "outputs": [
    {
     "data": {
      "text/plain": [
       "6"
      ]
     },
     "execution_count": 5,
     "metadata": {},
     "output_type": "execute_result"
    }
   ],
   "source": [
    "df.shape[1]"
   ]
  },
  {
   "cell_type": "code",
   "execution_count": 6,
   "metadata": {},
   "outputs": [
    {
     "data": {
      "text/plain": [
       "900"
      ]
     },
     "execution_count": 6,
     "metadata": {},
     "output_type": "execute_result"
    }
   ],
   "source": [
    "df.drop_duplicates('Title').count().iloc[0]"
   ]
  },
  {
   "cell_type": "code",
   "execution_count": 7,
   "metadata": {},
   "outputs": [
    {
     "data": {
      "text/plain": [
       "12"
      ]
     },
     "execution_count": 7,
     "metadata": {},
     "output_type": "execute_result"
    }
   ],
   "source": [
    "df.drop_duplicates('Parental Rating').count().iloc[2]"
   ]
  },
  {
   "cell_type": "markdown",
   "metadata": {},
   "source": [
    "# Explarotary data analysis"
   ]
  },
  {
   "cell_type": "code",
   "execution_count": 8,
   "metadata": {},
   "outputs": [
    {
     "data": {
      "text/html": [
       "<div>\n",
       "<style scoped>\n",
       "    .dataframe tbody tr th:only-of-type {\n",
       "        vertical-align: middle;\n",
       "    }\n",
       "\n",
       "    .dataframe tbody tr th {\n",
       "        vertical-align: top;\n",
       "    }\n",
       "\n",
       "    .dataframe thead th {\n",
       "        text-align: right;\n",
       "    }\n",
       "</style>\n",
       "<table border=\"1\" class=\"dataframe\">\n",
       "  <thead>\n",
       "    <tr style=\"text-align: right;\">\n",
       "      <th></th>\n",
       "      <th>Title</th>\n",
       "      <th>Year</th>\n",
       "      <th>Parental Rating</th>\n",
       "      <th>Rating</th>\n",
       "      <th>Number of Votes</th>\n",
       "      <th>Description</th>\n",
       "    </tr>\n",
       "  </thead>\n",
       "  <tbody>\n",
       "    <tr>\n",
       "      <th>1</th>\n",
       "      <td>2. Breaking Bad</td>\n",
       "      <td>2008–2013</td>\n",
       "      <td>TV-MA</td>\n",
       "      <td>9.5</td>\n",
       "      <td>2.1M</td>\n",
       "      <td>A chemistry teacher diagnosed with inoperable ...</td>\n",
       "    </tr>\n",
       "    <tr>\n",
       "      <th>389</th>\n",
       "      <td>390. Sapne Vs Everyone</td>\n",
       "      <td>NaN</td>\n",
       "      <td>NaN</td>\n",
       "      <td>9.4</td>\n",
       "      <td>66K</td>\n",
       "      <td>Two obsessive dreamers collide with the resist...</td>\n",
       "    </tr>\n",
       "    <tr>\n",
       "      <th>812</th>\n",
       "      <td>813. Bluey</td>\n",
       "      <td>2018–</td>\n",
       "      <td>TV-Y</td>\n",
       "      <td>9.4</td>\n",
       "      <td>29K</td>\n",
       "      <td>The slice-of-life adventures of an Australian ...</td>\n",
       "    </tr>\n",
       "    <tr>\n",
       "      <th>44</th>\n",
       "      <td>45. Avatar: The Last Airbender</td>\n",
       "      <td>2005–2008</td>\n",
       "      <td>TV-Y7-FV</td>\n",
       "      <td>9.3</td>\n",
       "      <td>376K</td>\n",
       "      <td>In a war-torn world of elemental powers, a you...</td>\n",
       "    </tr>\n",
       "    <tr>\n",
       "      <th>43</th>\n",
       "      <td>44. The Wire</td>\n",
       "      <td>2002–2008</td>\n",
       "      <td>TV-MA</td>\n",
       "      <td>9.3</td>\n",
       "      <td>379K</td>\n",
       "      <td>The Baltimore drug scene, as seen through the ...</td>\n",
       "    </tr>\n",
       "  </tbody>\n",
       "</table>\n",
       "</div>"
      ],
      "text/plain": [
       "                              Title       Year Parental Rating  Rating  \\\n",
       "1                   2. Breaking Bad  2008–2013           TV-MA     9.5   \n",
       "389          390. Sapne Vs Everyone        NaN             NaN     9.4   \n",
       "812                      813. Bluey      2018–            TV-Y     9.4   \n",
       "44   45. Avatar: The Last Airbender  2005–2008        TV-Y7-FV     9.3   \n",
       "43                     44. The Wire  2002–2008           TV-MA     9.3   \n",
       "\n",
       "    Number of Votes                                        Description  \n",
       "1              2.1M  A chemistry teacher diagnosed with inoperable ...  \n",
       "389             66K  Two obsessive dreamers collide with the resist...  \n",
       "812             29K  The slice-of-life adventures of an Australian ...  \n",
       "44             376K  In a war-torn world of elemental powers, a you...  \n",
       "43             379K  The Baltimore drug scene, as seen through the ...  "
      ]
     },
     "execution_count": 8,
     "metadata": {},
     "output_type": "execute_result"
    }
   ],
   "source": [
    "df.sort_values('Rating', ascending=False).head(5)"
   ]
  },
  {
   "cell_type": "code",
   "execution_count": 9,
   "metadata": {},
   "outputs": [
    {
     "data": {
      "text/html": [
       "<div>\n",
       "<style scoped>\n",
       "    .dataframe tbody tr th:only-of-type {\n",
       "        vertical-align: middle;\n",
       "    }\n",
       "\n",
       "    .dataframe tbody tr th {\n",
       "        vertical-align: top;\n",
       "    }\n",
       "\n",
       "    .dataframe thead th {\n",
       "        text-align: right;\n",
       "    }\n",
       "</style>\n",
       "<table border=\"1\" class=\"dataframe\">\n",
       "  <thead>\n",
       "    <tr style=\"text-align: right;\">\n",
       "      <th></th>\n",
       "      <th>Title</th>\n",
       "      <th>Year</th>\n",
       "      <th>Parental Rating</th>\n",
       "      <th>Rating</th>\n",
       "      <th>Number of Votes</th>\n",
       "      <th>Description</th>\n",
       "    </tr>\n",
       "  </thead>\n",
       "  <tbody>\n",
       "    <tr>\n",
       "      <th>341</th>\n",
       "      <td>342. Velma</td>\n",
       "      <td>2023–</td>\n",
       "      <td>TV-MA</td>\n",
       "      <td>1.6</td>\n",
       "      <td>78K</td>\n",
       "      <td>The origin of the sleuth and member of the Mys...</td>\n",
       "    </tr>\n",
       "    <tr>\n",
       "      <th>764</th>\n",
       "      <td>765. Keeping Up with the Kardashians</td>\n",
       "      <td>2007–2021</td>\n",
       "      <td>TV-14</td>\n",
       "      <td>2.9</td>\n",
       "      <td>32K</td>\n",
       "      <td>A peek inside the exploits and privileged priv...</td>\n",
       "    </tr>\n",
       "    <tr>\n",
       "      <th>554</th>\n",
       "      <td>555. Batwoman</td>\n",
       "      <td>2019–2022</td>\n",
       "      <td>TV-14</td>\n",
       "      <td>3.6</td>\n",
       "      <td>46K</td>\n",
       "      <td>Batwoman seeks justice for Gotham City.</td>\n",
       "    </tr>\n",
       "    <tr>\n",
       "      <th>559</th>\n",
       "      <td>560. Resident Evil</td>\n",
       "      <td>2022</td>\n",
       "      <td>TV-MA</td>\n",
       "      <td>4.2</td>\n",
       "      <td>46K</td>\n",
       "      <td>Nearly three decades after the discovery of th...</td>\n",
       "    </tr>\n",
       "    <tr>\n",
       "      <th>236</th>\n",
       "      <td>237. The Idol</td>\n",
       "      <td>2023</td>\n",
       "      <td>TV-MA</td>\n",
       "      <td>4.4</td>\n",
       "      <td>111K</td>\n",
       "      <td>Jocelyn is desperate to reclaim her rightful t...</td>\n",
       "    </tr>\n",
       "  </tbody>\n",
       "</table>\n",
       "</div>"
      ],
      "text/plain": [
       "                                    Title       Year Parental Rating  Rating  \\\n",
       "341                            342. Velma      2023–           TV-MA     1.6   \n",
       "764  765. Keeping Up with the Kardashians  2007–2021           TV-14     2.9   \n",
       "554                         555. Batwoman  2019–2022           TV-14     3.6   \n",
       "559                    560. Resident Evil       2022           TV-MA     4.2   \n",
       "236                         237. The Idol       2023           TV-MA     4.4   \n",
       "\n",
       "    Number of Votes                                        Description  \n",
       "341             78K  The origin of the sleuth and member of the Mys...  \n",
       "764             32K  A peek inside the exploits and privileged priv...  \n",
       "554             46K            Batwoman seeks justice for Gotham City.  \n",
       "559             46K  Nearly three decades after the discovery of th...  \n",
       "236            111K  Jocelyn is desperate to reclaim her rightful t...  "
      ]
     },
     "execution_count": 9,
     "metadata": {},
     "output_type": "execute_result"
    }
   ],
   "source": [
    "df.sort_values('Rating').head(5)"
   ]
  },
  {
   "cell_type": "code",
   "execution_count": 10,
   "metadata": {},
   "outputs": [
    {
     "data": {
      "text/html": [
       "<div>\n",
       "<style scoped>\n",
       "    .dataframe tbody tr th:only-of-type {\n",
       "        vertical-align: middle;\n",
       "    }\n",
       "\n",
       "    .dataframe tbody tr th {\n",
       "        vertical-align: top;\n",
       "    }\n",
       "\n",
       "    .dataframe thead th {\n",
       "        text-align: right;\n",
       "    }\n",
       "</style>\n",
       "<table border=\"1\" class=\"dataframe\">\n",
       "  <thead>\n",
       "    <tr style=\"text-align: right;\">\n",
       "      <th></th>\n",
       "      <th>Parental Rating</th>\n",
       "      <th>Rating</th>\n",
       "    </tr>\n",
       "  </thead>\n",
       "  <tbody>\n",
       "    <tr>\n",
       "      <th>0</th>\n",
       "      <td>Approved</td>\n",
       "      <td>8.500000</td>\n",
       "    </tr>\n",
       "    <tr>\n",
       "      <th>2</th>\n",
       "      <td>PG</td>\n",
       "      <td>8.400000</td>\n",
       "    </tr>\n",
       "    <tr>\n",
       "      <th>1</th>\n",
       "      <td>Not Rated</td>\n",
       "      <td>8.383333</td>\n",
       "    </tr>\n",
       "    <tr>\n",
       "      <th>9</th>\n",
       "      <td>TV-Y</td>\n",
       "      <td>8.180000</td>\n",
       "    </tr>\n",
       "    <tr>\n",
       "      <th>11</th>\n",
       "      <td>TV-Y7-FV</td>\n",
       "      <td>8.000000</td>\n",
       "    </tr>\n",
       "    <tr>\n",
       "      <th>7</th>\n",
       "      <td>TV-MA</td>\n",
       "      <td>7.943236</td>\n",
       "    </tr>\n",
       "    <tr>\n",
       "      <th>10</th>\n",
       "      <td>TV-Y7</td>\n",
       "      <td>7.926667</td>\n",
       "    </tr>\n",
       "    <tr>\n",
       "      <th>4</th>\n",
       "      <td>R</td>\n",
       "      <td>7.900000</td>\n",
       "    </tr>\n",
       "    <tr>\n",
       "      <th>8</th>\n",
       "      <td>TV-PG</td>\n",
       "      <td>7.877931</td>\n",
       "    </tr>\n",
       "    <tr>\n",
       "      <th>5</th>\n",
       "      <td>TV-14</td>\n",
       "      <td>7.772313</td>\n",
       "    </tr>\n",
       "    <tr>\n",
       "      <th>3</th>\n",
       "      <td>PG-13</td>\n",
       "      <td>7.300000</td>\n",
       "    </tr>\n",
       "    <tr>\n",
       "      <th>6</th>\n",
       "      <td>TV-G</td>\n",
       "      <td>7.140909</td>\n",
       "    </tr>\n",
       "  </tbody>\n",
       "</table>\n",
       "</div>"
      ],
      "text/plain": [
       "   Parental Rating    Rating\n",
       "0         Approved  8.500000\n",
       "2               PG  8.400000\n",
       "1        Not Rated  8.383333\n",
       "9             TV-Y  8.180000\n",
       "11        TV-Y7-FV  8.000000\n",
       "7            TV-MA  7.943236\n",
       "10           TV-Y7  7.926667\n",
       "4                R  7.900000\n",
       "8            TV-PG  7.877931\n",
       "5            TV-14  7.772313\n",
       "3            PG-13  7.300000\n",
       "6             TV-G  7.140909"
      ]
     },
     "execution_count": 10,
     "metadata": {},
     "output_type": "execute_result"
    }
   ],
   "source": [
    "temp_df = df.groupby('Parental Rating')[['Rating']].mean().reset_index().sort_values('Rating', ascending=False)\n",
    "temp_df"
   ]
  },
  {
   "cell_type": "code",
   "execution_count": 11,
   "metadata": {},
   "outputs": [
    {
     "data": {
      "image/png": "[encoded data removed]",
      "text/plain": [
       "<Figure size 640x480 with 1 Axes>"
      ]
     },
     "metadata": {},
     "output_type": "display_data"
    }
   ],
   "source": [
    "temp_df.plot(\n",
    "    kind='bar',\n",
    "    x='Parental Rating',\n",
    "    y='Rating'\n",
    ")\n",
    "plt.show()"
   ]
  },
  {
   "cell_type": "code",
   "execution_count": 12,
   "metadata": {},
   "outputs": [
    {
     "data": {
      "text/html": [
       "<div>\n",
       "<style scoped>\n",
       "    .dataframe tbody tr th:only-of-type {\n",
       "        vertical-align: middle;\n",
       "    }\n",
       "\n",
       "    .dataframe tbody tr th {\n",
       "        vertical-align: top;\n",
       "    }\n",
       "\n",
       "    .dataframe thead th {\n",
       "        text-align: right;\n",
       "    }\n",
       "</style>\n",
       "<table border=\"1\" class=\"dataframe\">\n",
       "  <thead>\n",
       "    <tr style=\"text-align: right;\">\n",
       "      <th></th>\n",
       "      <th>Parental Rating</th>\n",
       "      <th>Title</th>\n",
       "    </tr>\n",
       "  </thead>\n",
       "  <tbody>\n",
       "    <tr>\n",
       "      <th>0</th>\n",
       "      <td>Approved</td>\n",
       "      <td>1</td>\n",
       "    </tr>\n",
       "    <tr>\n",
       "      <th>1</th>\n",
       "      <td>Not Rated</td>\n",
       "      <td>6</td>\n",
       "    </tr>\n",
       "    <tr>\n",
       "      <th>2</th>\n",
       "      <td>PG</td>\n",
       "      <td>1</td>\n",
       "    </tr>\n",
       "    <tr>\n",
       "      <th>3</th>\n",
       "      <td>PG-13</td>\n",
       "      <td>1</td>\n",
       "    </tr>\n",
       "    <tr>\n",
       "      <th>4</th>\n",
       "      <td>R</td>\n",
       "      <td>1</td>\n",
       "    </tr>\n",
       "    <tr>\n",
       "      <th>5</th>\n",
       "      <td>TV-14</td>\n",
       "      <td>307</td>\n",
       "    </tr>\n",
       "    <tr>\n",
       "      <th>6</th>\n",
       "      <td>TV-G</td>\n",
       "      <td>22</td>\n",
       "    </tr>\n",
       "    <tr>\n",
       "      <th>7</th>\n",
       "      <td>TV-MA</td>\n",
       "      <td>377</td>\n",
       "    </tr>\n",
       "    <tr>\n",
       "      <th>8</th>\n",
       "      <td>TV-PG</td>\n",
       "      <td>145</td>\n",
       "    </tr>\n",
       "    <tr>\n",
       "      <th>9</th>\n",
       "      <td>TV-Y</td>\n",
       "      <td>5</td>\n",
       "    </tr>\n",
       "    <tr>\n",
       "      <th>10</th>\n",
       "      <td>TV-Y7</td>\n",
       "      <td>15</td>\n",
       "    </tr>\n",
       "    <tr>\n",
       "      <th>11</th>\n",
       "      <td>TV-Y7-FV</td>\n",
       "      <td>7</td>\n",
       "    </tr>\n",
       "  </tbody>\n",
       "</table>\n",
       "</div>"
      ],
      "text/plain": [
       "   Parental Rating  Title\n",
       "0         Approved      1\n",
       "1        Not Rated      6\n",
       "2               PG      1\n",
       "3            PG-13      1\n",
       "4                R      1\n",
       "5            TV-14    307\n",
       "6             TV-G     22\n",
       "7            TV-MA    377\n",
       "8            TV-PG    145\n",
       "9             TV-Y      5\n",
       "10           TV-Y7     15\n",
       "11        TV-Y7-FV      7"
      ]
     },
     "execution_count": 12,
     "metadata": {},
     "output_type": "execute_result"
    }
   ],
   "source": [
    "temp_df = df.groupby('Parental Rating')[['Title']].count().reset_index()\n",
    "temp_df"
   ]
  },
  {
   "cell_type": "code",
   "execution_count": 13,
   "metadata": {},
   "outputs": [
    {
     "data": {
      "image/png": "[encoded data removed]",
      "text/plain": [
       "<Figure size 640x480 with 1 Axes>"
      ]
     },
     "metadata": {},
     "output_type": "display_data"
    }
   ],
   "source": [
    "temp_df.plot(\n",
    "    kind='scatter',\n",
    "    x='Parental Rating',\n",
    "    y='Title'\n",
    ")\n",
    "plt.xticks(rotation=90)\n",
    "plt.show()"
   ]
  },
  {
   "cell_type": "markdown",
   "metadata": {},
   "source": [
    "# Setting up Local LLM and agent"
   ]
  },
  {
   "cell_type": "code",
   "execution_count": 14,
   "metadata": {},
   "outputs": [],
   "source": [
    "llm = LocalLLM(api_base='http://localhost:11434/v1', model='phi3')"
   ]
  },
  {
   "cell_type": "code",
   "execution_count": 15,
   "metadata": {},
   "outputs": [],
   "source": [
    "agent = Agent(dfs=df, config={'llm': llm, 'verbose': False, 'enforce_privacy': True, 'enable_cache': False})"
   ]
  },
  {
   "cell_type": "markdown",
   "metadata": {},
   "source": [
    "# Chatting with data"
   ]
  },
  {
   "cell_type": "code",
   "execution_count": 17,
   "metadata": {},
   "outputs": [
    {
     "name": "stdout",
     "output_type": "stream",
     "text": [
      "Number of columns in the dataset: 6\n"
     ]
    },
    {
     "data": {
      "text/html": [
       "<div>\n",
       "<style scoped>\n",
       "    .dataframe tbody tr th:only-of-type {\n",
       "        vertical-align: middle;\n",
       "    }\n",
       "\n",
       "    .dataframe tbody tr th {\n",
       "        vertical-align: top;\n",
       "    }\n",
       "\n",
       "    .dataframe thead th {\n",
       "        text-align: right;\n",
       "    }\n",
       "</style>\n",
       "<table border=\"1\" class=\"dataframe\">\n",
       "  <thead>\n",
       "    <tr style=\"text-align: right;\">\n",
       "      <th></th>\n",
       "      <th>Title</th>\n",
       "      <th>Year</th>\n",
       "      <th>Parental Rating</th>\n",
       "      <th>Rating</th>\n",
       "      <th>Number of Votes</th>\n",
       "      <th>Description</th>\n",
       "    </tr>\n",
       "  </thead>\n",
       "  <tbody>\n",
       "    <tr>\n",
       "      <th>0</th>\n",
       "      <td>1. Game of Thrones</td>\n",
       "      <td>2011–2019</td>\n",
       "      <td>TV-MA</td>\n",
       "      <td>9.2</td>\n",
       "      <td>2.3M</td>\n",
       "      <td>Nine noble families fight for control over the...</td>\n",
       "    </tr>\n",
       "    <tr>\n",
       "      <th>1</th>\n",
       "      <td>2. Breaking Bad</td>\n",
       "      <td>2008–2013</td>\n",
       "      <td>TV-MA</td>\n",
       "      <td>9.5</td>\n",
       "      <td>2.1M</td>\n",
       "      <td>A chemistry teacher diagnosed with inoperable ...</td>\n",
       "    </tr>\n",
       "    <tr>\n",
       "      <th>2</th>\n",
       "      <td>3. Stranger Things</td>\n",
       "      <td>2016–2025</td>\n",
       "      <td>TV-14</td>\n",
       "      <td>8.7</td>\n",
       "      <td>1.3M</td>\n",
       "      <td>When a young boy vanishes, a small town uncove...</td>\n",
       "    </tr>\n",
       "    <tr>\n",
       "      <th>3</th>\n",
       "      <td>4. Friends</td>\n",
       "      <td>1994–2004</td>\n",
       "      <td>TV-14</td>\n",
       "      <td>8.9</td>\n",
       "      <td>1.1M</td>\n",
       "      <td>Follows the personal and professional lives of...</td>\n",
       "    </tr>\n",
       "    <tr>\n",
       "      <th>4</th>\n",
       "      <td>5. The Walking Dead</td>\n",
       "      <td>2010–2022</td>\n",
       "      <td>TV-MA</td>\n",
       "      <td>8.1</td>\n",
       "      <td>1.1M</td>\n",
       "      <td>Sheriff Deputy Rick Grimes wakes up from a com...</td>\n",
       "    </tr>\n",
       "    <tr>\n",
       "      <th>...</th>\n",
       "      <td>...</td>\n",
       "      <td>...</td>\n",
       "      <td>...</td>\n",
       "      <td>...</td>\n",
       "      <td>...</td>\n",
       "      <td>...</td>\n",
       "    </tr>\n",
       "    <tr>\n",
       "      <th>895</th>\n",
       "      <td>896. Lockwood &amp; Co.</td>\n",
       "      <td>2023</td>\n",
       "      <td>TV-14</td>\n",
       "      <td>7.4</td>\n",
       "      <td>26K</td>\n",
       "      <td>Lucy, a girl with psychic abilities, joins two...</td>\n",
       "    </tr>\n",
       "    <tr>\n",
       "      <th>896</th>\n",
       "      <td>897. Batman</td>\n",
       "      <td>1966–1968</td>\n",
       "      <td>TV-G</td>\n",
       "      <td>7.5</td>\n",
       "      <td>26K</td>\n",
       "      <td>The Caped Crusader and his young ward battle e...</td>\n",
       "    </tr>\n",
       "    <tr>\n",
       "      <th>897</th>\n",
       "      <td>898. How I Met Your Father</td>\n",
       "      <td>2022–2023</td>\n",
       "      <td>TV-14</td>\n",
       "      <td>5.7</td>\n",
       "      <td>26K</td>\n",
       "      <td>Sophie and her close-knit group of friends are...</td>\n",
       "    </tr>\n",
       "    <tr>\n",
       "      <th>898</th>\n",
       "      <td>899. Delhi Crime</td>\n",
       "      <td>2019–</td>\n",
       "      <td>TV-MA</td>\n",
       "      <td>8.5</td>\n",
       "      <td>26K</td>\n",
       "      <td>Based on the Nirbhaya case, Delhi Crime follow...</td>\n",
       "    </tr>\n",
       "    <tr>\n",
       "      <th>899</th>\n",
       "      <td>900. Caprica</td>\n",
       "      <td>2009–2010</td>\n",
       "      <td>TV-14</td>\n",
       "      <td>7.1</td>\n",
       "      <td>26K</td>\n",
       "      <td>Two families, the Graystones and the Adamas, l...</td>\n",
       "    </tr>\n",
       "  </tbody>\n",
       "</table>\n",
       "<p>900 rows × 6 columns</p>\n",
       "</div>"
      ],
      "text/plain": [
       "                          Title       Year Parental Rating  Rating  \\\n",
       "0            1. Game of Thrones  2011–2019           TV-MA     9.2   \n",
       "1               2. Breaking Bad  2008–2013           TV-MA     9.5   \n",
       "2            3. Stranger Things  2016–2025           TV-14     8.7   \n",
       "3                    4. Friends  1994–2004           TV-14     8.9   \n",
       "4           5. The Walking Dead  2010–2022           TV-MA     8.1   \n",
       "..                          ...        ...             ...     ...   \n",
       "895         896. Lockwood & Co.       2023           TV-14     7.4   \n",
       "896                 897. Batman  1966–1968            TV-G     7.5   \n",
       "897  898. How I Met Your Father  2022–2023           TV-14     5.7   \n",
       "898            899. Delhi Crime      2019–           TV-MA     8.5   \n",
       "899                900. Caprica  2009–2010           TV-14     7.1   \n",
       "\n",
       "    Number of Votes                                        Description  \n",
       "0              2.3M  Nine noble families fight for control over the...  \n",
       "1              2.1M  A chemistry teacher diagnosed with inoperable ...  \n",
       "2              1.3M  When a young boy vanishes, a small town uncove...  \n",
       "3              1.1M  Follows the personal and professional lives of...  \n",
       "4              1.1M  Sheriff Deputy Rick Grimes wakes up from a com...  \n",
       "..              ...                                                ...  \n",
       "895             26K  Lucy, a girl with psychic abilities, joins two...  \n",
       "896             26K  The Caped Crusader and his young ward battle e...  \n",
       "897             26K  Sophie and her close-knit group of friends are...  \n",
       "898             26K  Based on the Nirbhaya case, Delhi Crime follow...  \n",
       "899             26K  Two families, the Graystones and the Adamas, l...  \n",
       "\n",
       "[900 rows x 6 columns]"
      ]
     },
     "execution_count": 17,
     "metadata": {},
     "output_type": "execute_result"
    }
   ],
   "source": [
    "agent.chat('how many columns are there in the dataset?')"
   ]
  },
  {
   "cell_type": "code",
   "execution_count": 19,
   "metadata": {},
   "outputs": [
    {
     "name": "stdout",
     "output_type": "stream",
     "text": [
      "{'type': 'number', 'value': 900}\n"
     ]
    },
    {
     "data": {
      "text/plain": [
       "900"
      ]
     },
     "execution_count": 19,
     "metadata": {},
     "output_type": "execute_result"
    }
   ],
   "source": [
    "agent.chat('how many unique \"Title\" are there in the dataset ?')"
   ]
  },
  {
   "cell_type": "code",
   "execution_count": 26,
   "metadata": {},
   "outputs": [
    {
     "data": {
      "text/plain": [
       "12"
      ]
     },
     "execution_count": 26,
     "metadata": {},
     "output_type": "execute_result"
    }
   ],
   "source": [
    "agent.chat('how many unique \"Parental Rating\" are there in the dataset ?')"
   ]
  },
  {
   "cell_type": "code",
   "execution_count": 30,
   "metadata": {},
   "outputs": [
    {
     "data": {
      "text/html": [
       "<div>\n",
       "<style scoped>\n",
       "    .dataframe tbody tr th:only-of-type {\n",
       "        vertical-align: middle;\n",
       "    }\n",
       "\n",
       "    .dataframe tbody tr th {\n",
       "        vertical-align: top;\n",
       "    }\n",
       "\n",
       "    .dataframe thead th {\n",
       "        text-align: right;\n",
       "    }\n",
       "</style>\n",
       "<table border=\"1\" class=\"dataframe\">\n",
       "  <thead>\n",
       "    <tr style=\"text-align: right;\">\n",
       "      <th></th>\n",
       "      <th>Title</th>\n",
       "      <th>Year</th>\n",
       "      <th>Parental Rating</th>\n",
       "      <th>Rating</th>\n",
       "      <th>Number of Votes</th>\n",
       "      <th>Description</th>\n",
       "    </tr>\n",
       "  </thead>\n",
       "  <tbody>\n",
       "    <tr>\n",
       "      <th>1</th>\n",
       "      <td>2. Breaking Bad</td>\n",
       "      <td>2008–2013</td>\n",
       "      <td>TV-MA</td>\n",
       "      <td>9.5</td>\n",
       "      <td>2.1M</td>\n",
       "      <td>A chemistry teacher diagnosed with inoperable ...</td>\n",
       "    </tr>\n",
       "    <tr>\n",
       "      <th>389</th>\n",
       "      <td>390. Sapne Vs Everyone</td>\n",
       "      <td>NaN</td>\n",
       "      <td>NaN</td>\n",
       "      <td>9.4</td>\n",
       "      <td>66K</td>\n",
       "      <td>Two obsessive dreamers collide with the resist...</td>\n",
       "    </tr>\n",
       "    <tr>\n",
       "      <th>812</th>\n",
       "      <td>813. Bluey</td>\n",
       "      <td>2018–</td>\n",
       "      <td>TV-Y</td>\n",
       "      <td>9.4</td>\n",
       "      <td>29K</td>\n",
       "      <td>The slice-of-life adventures of an Australian ...</td>\n",
       "    </tr>\n",
       "    <tr>\n",
       "      <th>43</th>\n",
       "      <td>44. The Wire</td>\n",
       "      <td>2002–2008</td>\n",
       "      <td>TV-MA</td>\n",
       "      <td>9.3</td>\n",
       "      <td>379K</td>\n",
       "      <td>The Baltimore drug scene, as seen through the ...</td>\n",
       "    </tr>\n",
       "    <tr>\n",
       "      <th>44</th>\n",
       "      <td>45. Avatar: The Last Airbender</td>\n",
       "      <td>2005–2008</td>\n",
       "      <td>TV-Y7-FV</td>\n",
       "      <td>9.3</td>\n",
       "      <td>376K</td>\n",
       "      <td>In a war-torn world of elemental powers, a you...</td>\n",
       "    </tr>\n",
       "  </tbody>\n",
       "</table>\n",
       "</div>"
      ],
      "text/plain": [
       "                              Title       Year Parental Rating  Rating  \\\n",
       "1                   2. Breaking Bad  2008–2013           TV-MA     9.5   \n",
       "389          390. Sapne Vs Everyone        NaN             NaN     9.4   \n",
       "812                      813. Bluey      2018–            TV-Y     9.4   \n",
       "43                     44. The Wire  2002–2008           TV-MA     9.3   \n",
       "44   45. Avatar: The Last Airbender  2005–2008        TV-Y7-FV     9.3   \n",
       "\n",
       "    Number of Votes                                        Description  \n",
       "1              2.1M  A chemistry teacher diagnosed with inoperable ...  \n",
       "389             66K  Two obsessive dreamers collide with the resist...  \n",
       "812             29K  The slice-of-life adventures of an Australian ...  \n",
       "43             379K  The Baltimore drug scene, as seen through the ...  \n",
       "44             376K  In a war-torn world of elemental powers, a you...  "
      ]
     },
     "execution_count": 30,
     "metadata": {},
     "output_type": "execute_result"
    }
   ],
   "source": [
    "agent.chat('show a table of 5 movies having higest rating')"
   ]
  },
  {
   "cell_type": "code",
   "execution_count": 38,
   "metadata": {},
   "outputs": [
    {
     "name": "stdout",
     "output_type": "stream",
     "text": [
      "Updated code is ready.\n"
     ]
    },
    {
     "data": {
      "text/html": [
       "<div>\n",
       "<style scoped>\n",
       "    .dataframe tbody tr th:only-of-type {\n",
       "        vertical-align: middle;\n",
       "    }\n",
       "\n",
       "    .dataframe tbody tr th {\n",
       "        vertical-align: top;\n",
       "    }\n",
       "\n",
       "    .dataframe thead th {\n",
       "        text-align: right;\n",
       "    }\n",
       "</style>\n",
       "<table border=\"1\" class=\"dataframe\">\n",
       "  <thead>\n",
       "    <tr style=\"text-align: right;\">\n",
       "      <th></th>\n",
       "      <th>Title</th>\n",
       "      <th>Year</th>\n",
       "      <th>Parental Rating</th>\n",
       "      <th>Rating</th>\n",
       "    </tr>\n",
       "  </thead>\n",
       "  <tbody>\n",
       "    <tr>\n",
       "      <th>3</th>\n",
       "      <td>Movie 4</td>\n",
       "      <td>2021</td>\n",
       "      <td>NC-17</td>\n",
       "      <td>3.5</td>\n",
       "    </tr>\n",
       "    <tr>\n",
       "      <th>0</th>\n",
       "      <td>Movie 1</td>\n",
       "      <td>2018</td>\n",
       "      <td>R</td>\n",
       "      <td>4.5</td>\n",
       "    </tr>\n",
       "    <tr>\n",
       "      <th>4</th>\n",
       "      <td>Movie 5</td>\n",
       "      <td>2022</td>\n",
       "      <td>PG</td>\n",
       "      <td>5.0</td>\n",
       "    </tr>\n",
       "    <tr>\n",
       "      <th>1</th>\n",
       "      <td>Movie 2</td>\n",
       "      <td>2019</td>\n",
       "      <td>PG-13</td>\n",
       "      <td>6.2</td>\n",
       "    </tr>\n",
       "    <tr>\n",
       "      <th>2</th>\n",
       "      <td>Movie 3</td>\n",
       "      <td>2020</td>\n",
       "      <td>G</td>\n",
       "      <td>8.9</td>\n",
       "    </tr>\n",
       "  </tbody>\n",
       "</table>\n",
       "</div>"
      ],
      "text/plain": [
       "     Title  Year Parental Rating  Rating\n",
       "3  Movie 4  2021           NC-17     3.5\n",
       "0  Movie 1  2018               R     4.5\n",
       "4  Movie 5  2022              PG     5.0\n",
       "1  Movie 2  2019           PG-13     6.2\n",
       "2  Movie 3  2020               G     8.9"
      ]
     },
     "execution_count": 38,
     "metadata": {},
     "output_type": "execute_result"
    }
   ],
   "source": [
    "agent.chat('show a table of 5 movies having lowest rating')"
   ]
  },
  {
   "cell_type": "code",
   "execution_count": 40,
   "metadata": {},
   "outputs": [
    {
     "data": {
      "text/html": [
       "<div>\n",
       "<style scoped>\n",
       "    .dataframe tbody tr th:only-of-type {\n",
       "        vertical-align: middle;\n",
       "    }\n",
       "\n",
       "    .dataframe tbody tr th {\n",
       "        vertical-align: top;\n",
       "    }\n",
       "\n",
       "    .dataframe thead th {\n",
       "        text-align: right;\n",
       "    }\n",
       "</style>\n",
       "<table border=\"1\" class=\"dataframe\">\n",
       "  <thead>\n",
       "    <tr style=\"text-align: right;\">\n",
       "      <th></th>\n",
       "      <th>Parental Rating</th>\n",
       "      <th>Rating</th>\n",
       "    </tr>\n",
       "  </thead>\n",
       "  <tbody>\n",
       "    <tr>\n",
       "      <th>0</th>\n",
       "      <td>Approved</td>\n",
       "      <td>8.500000</td>\n",
       "    </tr>\n",
       "    <tr>\n",
       "      <th>1</th>\n",
       "      <td>PG</td>\n",
       "      <td>8.400000</td>\n",
       "    </tr>\n",
       "    <tr>\n",
       "      <th>2</th>\n",
       "      <td>Not Rated</td>\n",
       "      <td>8.383333</td>\n",
       "    </tr>\n",
       "    <tr>\n",
       "      <th>3</th>\n",
       "      <td>TV-Y</td>\n",
       "      <td>8.180000</td>\n",
       "    </tr>\n",
       "    <tr>\n",
       "      <th>4</th>\n",
       "      <td>TV-Y7-FV</td>\n",
       "      <td>8.000000</td>\n",
       "    </tr>\n",
       "    <tr>\n",
       "      <th>5</th>\n",
       "      <td>TV-MA</td>\n",
       "      <td>7.943236</td>\n",
       "    </tr>\n",
       "    <tr>\n",
       "      <th>6</th>\n",
       "      <td>TV-Y7</td>\n",
       "      <td>7.926667</td>\n",
       "    </tr>\n",
       "    <tr>\n",
       "      <th>7</th>\n",
       "      <td>R</td>\n",
       "      <td>7.900000</td>\n",
       "    </tr>\n",
       "    <tr>\n",
       "      <th>8</th>\n",
       "      <td>TV-PG</td>\n",
       "      <td>7.877931</td>\n",
       "    </tr>\n",
       "    <tr>\n",
       "      <th>9</th>\n",
       "      <td>TV-14</td>\n",
       "      <td>7.772313</td>\n",
       "    </tr>\n",
       "    <tr>\n",
       "      <th>10</th>\n",
       "      <td>PG-13</td>\n",
       "      <td>7.300000</td>\n",
       "    </tr>\n",
       "    <tr>\n",
       "      <th>11</th>\n",
       "      <td>TV-G</td>\n",
       "      <td>7.140909</td>\n",
       "    </tr>\n",
       "  </tbody>\n",
       "</table>\n",
       "</div>"
      ],
      "text/plain": [
       "   Parental Rating    Rating\n",
       "0         Approved  8.500000\n",
       "1               PG  8.400000\n",
       "2        Not Rated  8.383333\n",
       "3             TV-Y  8.180000\n",
       "4         TV-Y7-FV  8.000000\n",
       "5            TV-MA  7.943236\n",
       "6            TV-Y7  7.926667\n",
       "7                R  7.900000\n",
       "8            TV-PG  7.877931\n",
       "9            TV-14  7.772313\n",
       "10           PG-13  7.300000\n",
       "11            TV-G  7.140909"
      ]
     },
     "execution_count": 40,
     "metadata": {},
     "output_type": "execute_result"
    }
   ],
   "source": [
    "agent.chat('group the dataset by \"Parental Rating\" and calculate the average of \"Rating\" for each group and sort by descending average rating then show it in a table')"
   ]
  },
  {
   "cell_type": "code",
   "execution_count": 49,
   "metadata": {},
   "outputs": [
    {
     "name": "stderr",
     "output_type": "stream",
     "text": [
      "<string>:2: FutureWarning: The default value of numeric_only in DataFrameGroupBy.mean is deprecated. In a future version, numeric_only will default to False. Either specify numeric_only or select only columns which should be valid for the function.\n"
     ]
    },
    {
     "data": {
      "text/html": [
       "<div>\n",
       "<style scoped>\n",
       "    .dataframe tbody tr th:only-of-type {\n",
       "        vertical-align: middle;\n",
       "    }\n",
       "\n",
       "    .dataframe tbody tr th {\n",
       "        vertical-align: top;\n",
       "    }\n",
       "\n",
       "    .dataframe thead th {\n",
       "        text-align: right;\n",
       "    }\n",
       "</style>\n",
       "<table border=\"1\" class=\"dataframe\">\n",
       "  <thead>\n",
       "    <tr style=\"text-align: right;\">\n",
       "      <th></th>\n",
       "      <th>Parental Rating</th>\n",
       "      <th>Rating</th>\n",
       "      <th>AvgRating</th>\n",
       "    </tr>\n",
       "  </thead>\n",
       "  <tbody>\n",
       "    <tr>\n",
       "      <th>0</th>\n",
       "      <td>Approved</td>\n",
       "      <td>8.500000</td>\n",
       "      <td>8.500000</td>\n",
       "    </tr>\n",
       "    <tr>\n",
       "      <th>1</th>\n",
       "      <td>PG</td>\n",
       "      <td>8.400000</td>\n",
       "      <td>8.400000</td>\n",
       "    </tr>\n",
       "    <tr>\n",
       "      <th>2</th>\n",
       "      <td>Not Rated</td>\n",
       "      <td>8.383333</td>\n",
       "      <td>8.383333</td>\n",
       "    </tr>\n",
       "    <tr>\n",
       "      <th>3</th>\n",
       "      <td>TV-Y</td>\n",
       "      <td>8.180000</td>\n",
       "      <td>8.180000</td>\n",
       "    </tr>\n",
       "    <tr>\n",
       "      <th>4</th>\n",
       "      <td>TV-Y7-FV</td>\n",
       "      <td>8.000000</td>\n",
       "      <td>8.000000</td>\n",
       "    </tr>\n",
       "    <tr>\n",
       "      <th>5</th>\n",
       "      <td>TV-MA</td>\n",
       "      <td>7.943236</td>\n",
       "      <td>7.943236</td>\n",
       "    </tr>\n",
       "    <tr>\n",
       "      <th>6</th>\n",
       "      <td>TV-Y7</td>\n",
       "      <td>7.926667</td>\n",
       "      <td>7.926667</td>\n",
       "    </tr>\n",
       "    <tr>\n",
       "      <th>7</th>\n",
       "      <td>R</td>\n",
       "      <td>7.900000</td>\n",
       "      <td>7.900000</td>\n",
       "    </tr>\n",
       "    <tr>\n",
       "      <th>8</th>\n",
       "      <td>TV-PG</td>\n",
       "      <td>7.877931</td>\n",
       "      <td>7.877931</td>\n",
       "    </tr>\n",
       "    <tr>\n",
       "      <th>9</th>\n",
       "      <td>TV-14</td>\n",
       "      <td>7.772313</td>\n",
       "      <td>7.772313</td>\n",
       "    </tr>\n",
       "    <tr>\n",
       "      <th>10</th>\n",
       "      <td>PG-13</td>\n",
       "      <td>7.300000</td>\n",
       "      <td>7.300000</td>\n",
       "    </tr>\n",
       "    <tr>\n",
       "      <th>11</th>\n",
       "      <td>TV-G</td>\n",
       "      <td>7.140909</td>\n",
       "      <td>7.140909</td>\n",
       "    </tr>\n",
       "  </tbody>\n",
       "</table>\n",
       "</div>"
      ],
      "text/plain": [
       "   Parental Rating    Rating  AvgRating\n",
       "0         Approved  8.500000   8.500000\n",
       "1               PG  8.400000   8.400000\n",
       "2        Not Rated  8.383333   8.383333\n",
       "3             TV-Y  8.180000   8.180000\n",
       "4         TV-Y7-FV  8.000000   8.000000\n",
       "5            TV-MA  7.943236   7.943236\n",
       "6            TV-Y7  7.926667   7.926667\n",
       "7                R  7.900000   7.900000\n",
       "8            TV-PG  7.877931   7.877931\n",
       "9            TV-14  7.772313   7.772313\n",
       "10           PG-13  7.300000   7.300000\n",
       "11            TV-G  7.140909   7.140909"
      ]
     },
     "execution_count": 49,
     "metadata": {},
     "output_type": "execute_result"
    },
    {
     "data": {
      "image/png": "[encoded data removed]",
      "text/plain": [
       "<Figure size 1000x500 with 1 Axes>"
      ]
     },
     "metadata": {},
     "output_type": "display_data"
    }
   ],
   "source": [
    "agent.chat('show a bar chart showimg average of \"Rating\" by \"Parental Rating\"')"
   ]
  },
  {
   "cell_type": "code",
   "execution_count": 52,
   "metadata": {},
   "outputs": [
    {
     "name": "stdout",
     "output_type": "stream",
     "text": [
      "   Parental Rating  TitleCount\n",
      "0         Approved           1\n",
      "1        Not Rated           6\n",
      "2               PG           1\n",
      "3            PG-13           1\n",
      "4                R           1\n",
      "5            TV-14         307\n",
      "6             TV-G          22\n",
      "7            TV-MA         377\n",
      "8            TV-PG         145\n",
      "9             TV-Y           5\n",
      "10           TV-Y7          15\n",
      "11        TV-Y7-FV           7\n"
     ]
    },
    {
     "data": {
      "text/plain": [
       "<Figure size 1000x600 with 0 Axes>"
      ]
     },
     "metadata": {},
     "output_type": "display_data"
    },
    {
     "data": {
      "image/png": "[encoded data removed]",
      "text/plain": [
       "<Figure size 640x480 with 1 Axes>"
      ]
     },
     "metadata": {},
     "output_type": "display_data"
    },
    {
     "name": "stderr",
     "output_type": "stream",
     "text": [
      "Traceback (most recent call last):\n",
      "  File \"d:\\Users\\sarta\\miniconda3\\envs\\prompt-analysis-ollama-env\\Lib\\site-packages\\pandasai\\pipelines\\chat\\generate_chat_pipeline.py\", line 307, in run\n",
      "    output = (self.code_generation_pipeline | self.code_execution_pipeline).run(\n",
      "             ^^^^^^^^^^^^^^^^^^^^^^^^^^^^^^^^^^^^^^^^^^^^^^^^^^^^^^^^^^^^^^^^^^^\n",
      "  File \"d:\\Users\\sarta\\miniconda3\\envs\\prompt-analysis-ollama-env\\Lib\\site-packages\\pandasai\\pipelines\\pipeline.py\", line 137, in run\n",
      "    raise e\n",
      "  File \"d:\\Users\\sarta\\miniconda3\\envs\\prompt-analysis-ollama-env\\Lib\\site-packages\\pandasai\\pipelines\\pipeline.py\", line 101, in run\n",
      "    step_output = logic.execute(\n",
      "                  ^^^^^^^^^^^^^^\n",
      "  File \"d:\\Users\\sarta\\miniconda3\\envs\\prompt-analysis-ollama-env\\Lib\\site-packages\\pandasai\\pipelines\\chat\\code_execution.py\", line 113, in execute\n",
      "    raise e\n",
      "  File \"d:\\Users\\sarta\\miniconda3\\envs\\prompt-analysis-ollama-env\\Lib\\site-packages\\pandasai\\pipelines\\chat\\code_execution.py\", line 85, in execute\n",
      "    result = self.execute_code(code_to_run, code_context)\n",
      "             ^^^^^^^^^^^^^^^^^^^^^^^^^^^^^^^^^^^^^^^^^^^^\n",
      "  File \"d:\\Users\\sarta\\miniconda3\\envs\\prompt-analysis-ollama-env\\Lib\\site-packages\\pandasai\\pipelines\\chat\\code_execution.py\", line 171, in execute_code\n",
      "    exec(code, environment)\n",
      "  File \"<string>\", line 3, in <module>\n",
      "NameError: name 'averageayer_rating_by_parental_rating' is not defined. Did you mean: 'average_rating_by_parental_rating'?\n"
     ]
    },
    {
     "data": {
      "text/plain": [
       "\"Unfortunately, I was not able to answer your question, because of the following error:\\n\\nname 'averageayer_rating_by_parental_rating' is not defined\\n\""
      ]
     },
     "execution_count": 52,
     "metadata": {},
     "output_type": "execute_result"
    }
   ],
   "source": [
    "agent.chat('group the \"Parental Rating\" and count the \"Title\" in a table')"
   ]
  }
 ],
 "metadata": {
  "kernelspec": {
   "display_name": "prompt-analysis-ollama-env",
   "language": "python",
   "name": "python3"
  },
  "language_info": {
   "codemirror_mode": {
    "name": "ipython",
    "version": 3
   },
   "file_extension": ".py",
   "mimetype": "text/x-python",
   "name": "python",
   "nbconvert_exporter": "python",
   "pygments_lexer": "ipython3",
   "version": "3.12.3"
  }
 },
 "nbformat": 4,
 "nbformat_minor": 2
}
